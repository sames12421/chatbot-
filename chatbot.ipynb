{
  "nbformat": 4,
  "nbformat_minor": 0,
  "metadata": {
    "colab": {
      "private_outputs": true,
      "provenance": [],
      "include_colab_link": true
    },
    "kernelspec": {
      "name": "python3",
      "display_name": "Python 3"
    },
    "language_info": {
      "name": "python"
    }
  },
  "cells": [
    {
      "cell_type": "markdown",
      "metadata": {
        "id": "view-in-github",
        "colab_type": "text"
      },
      "source": [
        "<a href=\"https://colab.research.google.com/github/sames12421/chatbot-/blob/main/chatbot.ipynb\" target=\"_parent\"><img src=\"https://colab.research.google.com/assets/colab-badge.svg\" alt=\"Open In Colab\"/></a>"
      ]
    },
    {
      "cell_type": "code",
      "execution_count": null,
      "metadata": {
        "id": "UcN3_yhQHTQA"
      },
      "outputs": [],
      "source": []
    },
    {
      "cell_type": "code",
      "source": [
        "import nltk\n",
        "from nltk.chat.util import Chat, reflections\n",
        "\n",
        "pairs = [\n",
        "    [\n",
        "        r\"name(.*)\",\n",
        "        [\"Hello %1, How are You Today?\",]\n",
        "    ],\n",
        "    [\n",
        "        r\"Hi|Hey|Hello\",\n",
        "        [\"Hello\", \"Hey There\",]\n",
        "    ],\n",
        "    [\n",
        "        r\"What is your Name?\",\n",
        "        [\"Iam a chatbot , You can call me ChatBot.\",]\n",
        "    ],\n",
        "    [\n",
        "        r\"How are You ?\",\n",
        "        [\"I am good, How about You?\",]\n",
        "    ],\n",
        "    [\n",
        "        r\"sorry(.*)\",\n",
        "        [\"It's alright\", \"no problem\",]\n",
        "    ],\n",
        "    [\n",
        "        r\"doubt\",\n",
        "        [\"What is it?\",]\n",
        "    ],\n",
        "    [\n",
        "        r\"How is your day?\",\n",
        "        [\"pretty hectic\", \"how was yours?\",]\n",
        "    ],\n",
        "    [\n",
        "        r\"quit\",\n",
        "        [\"Bye! Take Care.\",\"see you soon\",]\n",
        "    ],\n",
        "]\n",
        "\n",
        "\n",
        "chatbot = Chat(pairs, reflections)\n",
        "\n",
        "\n",
        "print(\"Welcome to the chatbot! you can ask me anything. Type 'exit' to exit.\")\n",
        "\n",
        "chatbot.converse()"
      ],
      "metadata": {
        "id": "smyXuSY7CUF0"
      },
      "execution_count": null,
      "outputs": []
    }
  ]
}